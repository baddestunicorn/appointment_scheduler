{
 "cells": [
  {
   "cell_type": "markdown",
   "id": "2119d1b5-0fdc-41a5-8d58-67fccd97417b",
   "metadata": {},
   "source": [
    "This project is a clinic scheduling chatbox. The user, or client, has 3 choices. \n",
    "\n",
    "Option 1:\n",
    "Pressing '1' allows client to see the clinic's operation hours. The Triton Clinic chatbox should respond to this input with 'We operate Monday to Friday, from 8:00 to 17:00. Our last time slot is at 16:00'.\n",
    "\n",
    "Option 2: \n",
    "Pressing '2' allows client to schedule an appointment. The client will be prompted to input their full name, desired day, then time. The chatbot will check that the day and time are available, and check that the patient has not already scheduled. If all three conditions are satisfied, then the client will receive a message confirming their appointment.\n",
    "\n",
    "Option 3: Pressing '3' allows client to check if they've already scheduled. They will be prompted to enter their full name. If they haven't scheduled yet, they will receive a message saying their appointment does not exist. Otherwise, they will receive a message saying their appointment has already been made."
   ]
  },
  {
   "cell_type": "code",
   "execution_count": 6,
   "id": "ac82c41b-d146-47d5-856a-f352fc9a9543",
   "metadata": {},
   "outputs": [],
   "source": [
    "from my_modules.classes import ClinicScheduling"
   ]
  },
  {
   "cell_type": "code",
   "execution_count": 7,
   "id": "7426d235-8ff2-4125-a8d1-dad4b4f23e64",
   "metadata": {},
   "outputs": [],
   "source": [
    "from my_modules.functions import say_bye, chatbox"
   ]
  },
  {
   "cell_type": "code",
   "execution_count": 8,
   "id": "3520c652-7d18-48c2-962a-924824480851",
   "metadata": {},
   "outputs": [
    {
     "name": "stdout",
     "output_type": "stream",
     "text": [
      "Welcome to Triton clinic! I'm happy to assist! Press 1 to view our hours. Press 2 to create an appointment. Press 3 to view your appointment.\n"
     ]
    },
    {
     "name": "stdin",
     "output_type": "stream",
     "text": [
      "Client:  bye\n"
     ]
    },
    {
     "name": "stdout",
     "output_type": "stream",
     "text": [
      "Have a great day, and thank you for using our services!\n"
     ]
    }
   ],
   "source": [
    "chatbox()"
   ]
  }
 ],
 "metadata": {
  "kernelspec": {
   "display_name": "Python 3 (ipykernel)",
   "language": "python",
   "name": "python3"
  },
  "language_info": {
   "codemirror_mode": {
    "name": "ipython",
    "version": 3
   },
   "file_extension": ".py",
   "mimetype": "text/x-python",
   "name": "python",
   "nbconvert_exporter": "python",
   "pygments_lexer": "ipython3",
   "version": "3.11.9"
  }
 },
 "nbformat": 4,
 "nbformat_minor": 5
}
